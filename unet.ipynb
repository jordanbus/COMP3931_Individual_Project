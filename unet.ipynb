{
  "cells": [
    {
      "cell_type": "code",
      "execution_count": null,
      "metadata": {
        "colab": {
          "base_uri": "https://localhost:8080/",
          "height": 276
        },
        "id": "hl8BTle0K5oN",
        "outputId": "4ab0f9af-10bd-4cf4-cf47-21cdc98f945d"
      },
      "outputs": [],
      "source": [
        "import tensorflow as tf\n",
        "from tensorflow.keras.models import Model\n",
        "from tensorflow.keras.optimizers import Adam\n",
        "from tensorflow.keras.layers import Input, Conv2D, MaxPooling2D, Dropout, Concatenate, Conv2DTranspose\n",
        "\n",
        "def create_unet(inputs, num_filters=32, num_classes=4, kernel_initializer='he_normal', dropout_rate=0.2):\n",
        "    def encode_conv(inputs, filters):\n",
        "        conv = Conv2D(filters, (3,3), activation='relu', kernel_initializer=kernel_initializer, padding='same')(inputs)\n",
        "        conv = Dropout(dropout_rate)(conv)\n",
        "        conv = Conv2D(filters, (3,3), activation='relu', kernel_initializer=kernel_initializer, padding='same')(conv)\n",
        "        pool = MaxPooling2D(pool_size=(2, 2))(conv)\n",
        "        return conv,pool\n",
        "\n",
        "    def bottleneck_conv(inputs, filters):\n",
        "        conv = Conv2D(filters, (3,3), activation='relu', kernel_initializer=kernel_initializer, padding='same')(inputs)\n",
        "        conv = Dropout(dropout_rate)(conv)\n",
        "        conv = Conv2D(filters, (3,3), activation='relu', kernel_initializer=kernel_initializer, padding='same')(conv)\n",
        "        return conv\n",
        "\n",
        "    def decode_conv(inputs, skip_connection, filters, concat_axis=-1):\n",
        "        up = Conv2DTranspose(filters, (2, 2), strides=(2, 2), padding='same')(inputs)\n",
        "        up = Concatenate(axis=concat_axis)([up, skip_connection])\n",
        "        conv = Conv2D(filters, (3, 3), activation='relu', kernel_initializer=kernel_initializer, padding='same')(up)\n",
        "        conv = Dropout(dropout_rate)(conv)\n",
        "        conv = Conv2D(filters, (3, 3), activation='relu', kernel_initializer=kernel_initializer, padding='same')(conv)\n",
        "        return conv\n",
        "\n",
        "    conv1, pool1 = encode_conv(inputs, num_filters)\n",
        "    conv2, pool2 = encode_conv(pool1, num_filters*2)\n",
        "    conv3, pool3 = encode_conv(pool2, num_filters*4)\n",
        "    conv4, pool4 = encode_conv(pool3, num_filters*8)\n",
        "    conv5 = bottleneck_conv(pool4, num_filters*16)\n",
        "    up6 = decode_conv(conv5, conv4, num_filters*8)\n",
        "    up7 = decode_conv(up6, conv3, num_filters*4)\n",
        "    up8 = decode_conv(up7, conv2, num_filters*2)\n",
        "    up9 = decode_conv(up8, conv1, num_filters, concat_axis=3)\n",
        "\n",
        "    outputs = Conv2D(num_classes, (1,1), activation='sigmoid')(up9)\n",
        "\n",
        "    model = Model(inputs=inputs, outputs=outputs)\n",
        "    \n",
        "    return model\n",
        "\n",
        "inputs = Input((128,128,4))\n",
        "\n",
        "model = create_unet(inputs)\n",
        "model.compile(loss=\"binary_crossentropy\", optimizer=Adam(learning_rate=1e-3), metrics = [\"accuracy\"])\n"
      ]
    },
    {
      "cell_type": "code",
      "execution_count": null,
      "metadata": {},
      "outputs": [],
      "source": [
        "model.summary()"
      ]
    }
  ],
  "metadata": {
    "colab": {
      "provenance": []
    },
    "kernelspec": {
      "display_name": "Python 3",
      "name": "python3"
    },
    "language_info": {
      "codemirror_mode": {
        "name": "ipython",
        "version": 3
      },
      "file_extension": ".py",
      "mimetype": "text/x-python",
      "name": "python",
      "nbconvert_exporter": "python",
      "pygments_lexer": "ipython3",
      "version": "3.9.13"
    }
  },
  "nbformat": 4,
  "nbformat_minor": 0
}
